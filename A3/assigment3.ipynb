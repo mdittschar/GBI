{
 "cells": [
  {
   "cell_type": "code",
   "execution_count": null,
   "metadata": {},
   "outputs": [],
   "source": []
  },
  {
   "cell_type": "code",
   "execution_count": 116,
   "metadata": {},
   "outputs": [],
   "source": [
    "import Bio\n",
    "from Bio import SeqIO\n",
    "import getopt\n",
    "import sys\n",
    "import numpy as np\n",
    "import pandas as pd\n",
    "from itertools import combinations, product\n",
    "from operator import itemgetter\n",
    "import math\n"
   ]
  },
  {
   "cell_type": "code",
   "execution_count": 65,
   "metadata": {},
   "outputs": [
    {
     "name": "stdout",
     "output_type": "stream",
     "text": [
      "This is Sequence 1: ATCCTGGACATGGACGTGGTGGAGGGCAGCGCCGCCAGGTTCGACTGCAAGGTGGAGGGCTACCCCGACCCCGAGGTGATGTGGTTCAAGGACGACAACCCCGTGAAGGAGAGCAGGCACTTCCAGATCGACTACGACGAGGAGGGCAAC\n",
      "This is Sequence 2: AGGGACCCCGTGAAGACCCACGAGGGCTGGGGCGTGATGCTGCCCTGCAACCCCCCCGCCCACTACCCCGGCCTGAGCTACAGGTGGCTGCTGAACGAGTTCCCCAACTTCATCCCCACCGACGGCAGGCACTTCGTGAGCCAGACCACC\n",
      "This is Sequence 3: ATCAGCGACACCGAGGCCGACATCGGCAGCAACCTGAGGTGGGGCTGCGCCGCCGCCGGCAAGCCCAGGCCCATGGTGAGGTGGCTGAGGAACGGCGAGCCCCTGGCCAGCCAGAACAGGGTGGAGGTGCTGGCC\n",
      "This is Sequence 4: AGGAGGCTGATCCCCGCCGCCAGGGGCGGCGAGATCAGCATCCTGTGCCAGCCCAGGGCCGCCCCCAAGGCCACCATCCTGTGGAGCAAGGGCACCGAGATCCTGGGCAACAGCACCAGGGTGACCGTGACCAGC\n"
     ]
    }
   ],
   "source": [
    "#--------------------------------------\n",
    "# FILL IN ARG PARSER!!\n",
    "#-----------------------------------------\n",
    "#read in multiple sequences from fasta file\n",
    "input_file = SeqIO.parse('to_msa.fasta','fasta')\n",
    "#sequences list\n",
    "sequences = [record for record in input_file]\n",
    "\n",
    "sequences_array = []\n",
    "for record in sequences: \n",
    "   # x= record.seq\n",
    "    print (f\"This is {record.description}: {record.seq}\")\n",
    "    #sequences_df = sequences.append(x)\n",
    "    sequences_array.append(record.seq) "
   ]
  },
  {
   "cell_type": "code",
   "execution_count": 77,
   "metadata": {},
   "outputs": [
    {
     "name": "stdout",
     "output_type": "stream",
     "text": [
      "Seq alignment: (0, 1) \n",
      " Sequence: ATCCTGGACATGGACGTGGTGGAGGGCAGCGCCGCCAGGTTCGACTGCAAGGTGGAGGGCTACCCCGACCCCGAGGTGATGTGGTTCAAGGACGACAACCCCGTGAAGGAGAGCAGGCACTTCCAGATCGACTACGACGAGGAGGGCAAC \n",
      " Sequence 2: AGGGACCCCGTGAAGACCCACGAGGGCTGGGGCGTGATGCTGCCCTGCAACCCCCCCGCCCACTACCCCGGCCTGAGCTACAGGTGGCTGCTGAACGAGTTCCCCAACTTCATCCCCACCGACGGCAGGCACTTCGTGAGCCAGACCACC\n",
      "Seq alignment: (0, 2) \n",
      " Sequence: ATCCTGGACATGGACGTGGTGGAGGGCAGCGCCGCCAGGTTCGACTGCAAGGTGGAGGGCTACCCCGACCCCGAGGTGATGTGGTTCAAGGACGACAACCCCGTGAAGGAGAGCAGGCACTTCCAGATCGACTACGACGAGGAGGGCAAC \n",
      " Sequence 2: ATCAGCGACACCGAGGCCGACATCGGCAGCAACCTGAGGTGGGGCTGCGCCGCCGCCGGCAAGCCCAGGCCCATGGTGAGGTGGCTGAGGAACGGCGAGCCCCTGGCCAGCCAGAACAGGGTGGAGGTGCTGGCC\n",
      "Seq alignment: (0, 3) \n",
      " Sequence: ATCCTGGACATGGACGTGGTGGAGGGCAGCGCCGCCAGGTTCGACTGCAAGGTGGAGGGCTACCCCGACCCCGAGGTGATGTGGTTCAAGGACGACAACCCCGTGAAGGAGAGCAGGCACTTCCAGATCGACTACGACGAGGAGGGCAAC \n",
      " Sequence 2: AGGAGGCTGATCCCCGCCGCCAGGGGCGGCGAGATCAGCATCCTGTGCCAGCCCAGGGCCGCCCCCAAGGCCACCATCCTGTGGAGCAAGGGCACCGAGATCCTGGGCAACAGCACCAGGGTGACCGTGACCAGC\n",
      "Seq alignment: (1, 2) \n",
      " Sequence: AGGGACCCCGTGAAGACCCACGAGGGCTGGGGCGTGATGCTGCCCTGCAACCCCCCCGCCCACTACCCCGGCCTGAGCTACAGGTGGCTGCTGAACGAGTTCCCCAACTTCATCCCCACCGACGGCAGGCACTTCGTGAGCCAGACCACC \n",
      " Sequence 2: ATCAGCGACACCGAGGCCGACATCGGCAGCAACCTGAGGTGGGGCTGCGCCGCCGCCGGCAAGCCCAGGCCCATGGTGAGGTGGCTGAGGAACGGCGAGCCCCTGGCCAGCCAGAACAGGGTGGAGGTGCTGGCC\n",
      "Seq alignment: (1, 3) \n",
      " Sequence: AGGGACCCCGTGAAGACCCACGAGGGCTGGGGCGTGATGCTGCCCTGCAACCCCCCCGCCCACTACCCCGGCCTGAGCTACAGGTGGCTGCTGAACGAGTTCCCCAACTTCATCCCCACCGACGGCAGGCACTTCGTGAGCCAGACCACC \n",
      " Sequence 2: AGGAGGCTGATCCCCGCCGCCAGGGGCGGCGAGATCAGCATCCTGTGCCAGCCCAGGGCCGCCCCCAAGGCCACCATCCTGTGGAGCAAGGGCACCGAGATCCTGGGCAACAGCACCAGGGTGACCGTGACCAGC\n",
      "Seq alignment: (2, 3) \n",
      " Sequence: ATCAGCGACACCGAGGCCGACATCGGCAGCAACCTGAGGTGGGGCTGCGCCGCCGCCGGCAAGCCCAGGCCCATGGTGAGGTGGCTGAGGAACGGCGAGCCCCTGGCCAGCCAGAACAGGGTGGAGGTGCTGGCC \n",
      " Sequence 2: AGGAGGCTGATCCCCGCCGCCAGGGGCGGCGAGATCAGCATCCTGTGCCAGCCCAGGGCCGCCCCCAAGGCCACCATCCTGTGGAGCAAGGGCACCGAGATCCTGGGCAACAGCACCAGGGTGACCGTGACCAGC\n",
      "AGGAGGCTGATCCCCGCCGCCAGGGGCGGCGAGATCAGCATCCTGTGCCAGCCCAGGGCCGCCCCCAAGGCCACCATCCTGTGGAGCAAGGGCACCGAGATCCTGGGCAACAGCACCAGGGTGACCGTGACCAGC\n"
     ]
    }
   ],
   "source": [
    " \n",
    "combis= (list(combinations(range(len(sequences)), 2))) \n",
    "\n",
    "for i in range (len(combis)):\n",
    "    seq_no1= combis[i][0]\n",
    "    seq_no2= combis[i][1]\n",
    "\n",
    "    se1= sequences_array[seq_no1]\n",
    "    \n",
    "    se2= sequences_array[seq_no2]\n",
    "    print(f'Seq alignment: {combis[i]} \\n Sequence: {se1} \\n Sequence 2: {se2}')\n",
    "\n",
    "\n",
    "\n",
    "    #print(combis[i][0], combis[i][1])\n",
    "print(sequences_array[3])"
   ]
  },
  {
   "cell_type": "code",
   "execution_count": 90,
   "metadata": {},
   "outputs": [
    {
     "name": "stdout",
     "output_type": "stream",
     "text": [
      "GCTTGTTACAAATTGTCGCTGATCTAGTCAATTTCGGGTCCTGACTCCCAGAAATCCGCG\n",
      "AATTAATTGCAAGATGGTAACCGCTTTGCTGCAATGAGCTAGTTGTTATGGCAAAGACAG\n"
     ]
    }
   ],
   "source": [
    "\n",
    "import random\n",
    "random.seed(1)\n",
    "dna = [\"A\",\"G\",\"C\",\"T\"]\n",
    "random_sequenceX=''\n",
    "random_sequenceY=''\n",
    "\n",
    "for i in range(0,60):\n",
    "    random_sequenceX+=random.choice(dna)\n",
    "    random_sequenceY+= random.choice(dna)\n",
    "print(random_sequenceX)\n",
    "print(random_sequenceY)"
   ]
  },
  {
   "cell_type": "code",
   "execution_count": 110,
   "metadata": {},
   "outputs": [],
   "source": [
    "def random_seq(L, rs):\n",
    "    #sequences= [None]*2\n",
    "    random.seed(rs)\n",
    "    dna = [\"A\",\"G\",\"C\",\"T\"]\n",
    "    random_dna_seq='' \n",
    "    \n",
    "    for i in range(0,L):            \n",
    "        random_dna_seq+=random.choice(dna)\n",
    "        #sequences[j].append(random_dna_seq)\n",
    "    return random_dna_seq, counter"
   ]
  },
  {
   "cell_type": "code",
   "execution_count": 133,
   "metadata": {},
   "outputs": [
    {
     "data": {
      "text/plain": [
       "Counter({'A': 4, 'C': 3, 'G': 3})"
      ]
     },
     "execution_count": 133,
     "metadata": {},
     "output_type": "execute_result"
    }
   ],
   "source": [
    "random_dna_seq= random_seq(10,2)\n",
    "from collections import Counter\n",
    "c= Counter(random_dna_seq)\n",
    "c"
   ]
  },
  {
   "cell_type": "code",
   "execution_count": 137,
   "metadata": {},
   "outputs": [
    {
     "data": {
      "text/plain": [
       "[1, 1]"
      ]
     },
     "execution_count": 137,
     "metadata": {},
     "output_type": "execute_result"
    }
   ],
   "source": [
    "combis= (list(map(list,product([0,1],[0,1]))))\n",
    "combis[3]"
   ]
  },
  {
   "cell_type": "code",
   "execution_count": 121,
   "metadata": {},
   "outputs": [
    {
     "name": "stdout",
     "output_type": "stream",
     "text": [
      "-0.14\n"
     ]
    },
    {
     "data": {
      "text/plain": [
       "-1.9661128563728327"
      ]
     },
     "execution_count": 121,
     "metadata": {},
     "output_type": "execute_result"
    }
   ],
   "source": [
    "S_obs = 51\n",
    "S_id = 450.0\n",
    "S_rand=   100.0\n",
    "d= (S_obs-S_rand)/(S_id- S_rand)\n",
    "print(d)\n",
    "\n",
    "x= math.log(abs(d))\n",
    "x"
   ]
  },
  {
   "cell_type": "code",
   "execution_count": 114,
   "metadata": {},
   "outputs": [
    {
     "name": "stdout",
     "output_type": "stream",
     "text": [
      "GGCTAATCGGTTTGGGTAAGACACTTTTTGCAAGTGCTCTTCTGCACGCAGCCAATTACA\n",
      "GCATTGAAATCAGCCGACGACCGGCCCACTGGGTCACACCGTTCTTGGCCAAATCTCGGA\n"
     ]
    }
   ],
   "source": [
    "X= random_seq(60,3)\n",
    "Y= random_seq(60,4)\n",
    "print(X)\n",
    "print(Y)"
   ]
  }
 ],
 "metadata": {
  "interpreter": {
   "hash": "6b653cce55b49036c6addb2704e0494e1a69bc998590e4b3eca4f60dd3d1794b"
  },
  "kernelspec": {
   "display_name": "Python 3.8.8 ('base')",
   "language": "python",
   "name": "python3"
  },
  "language_info": {
   "codemirror_mode": {
    "name": "ipython",
    "version": 3
   },
   "file_extension": ".py",
   "mimetype": "text/x-python",
   "name": "python",
   "nbconvert_exporter": "python",
   "pygments_lexer": "ipython3",
   "version": "3.8.8"
  },
  "orig_nbformat": 4
 },
 "nbformat": 4,
 "nbformat_minor": 2
}
