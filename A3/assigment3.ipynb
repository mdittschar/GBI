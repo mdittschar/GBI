{
 "cells": [
  {
   "cell_type": "code",
   "execution_count": null,
   "metadata": {},
   "outputs": [],
   "source": []
  },
  {
   "cell_type": "code",
   "execution_count": 46,
   "metadata": {},
   "outputs": [],
   "source": [
    "import Bio\n",
    "from Bio import SeqIO\n",
    "import getopt\n",
    "import sys\n",
    "import numpy as np\n",
    "import pandas as pd\n",
    "from itertools import combinations, product\n",
    "from operator import itemgetter\n",
    "import math\n"
   ]
  },
  {
   "cell_type": "code",
   "execution_count": 65,
   "metadata": {},
   "outputs": [
    {
     "name": "stdout",
     "output_type": "stream",
     "text": [
      "This is Sequence 1: ATCCTGGACATGGACGTGGTGGAGGGCAGCGCCGCCAGGTTCGACTGCAAGGTGGAGGGCTACCCCGACCCCGAGGTGATGTGGTTCAAGGACGACAACCCCGTGAAGGAGAGCAGGCACTTCCAGATCGACTACGACGAGGAGGGCAAC\n",
      "This is Sequence 2: AGGGACCCCGTGAAGACCCACGAGGGCTGGGGCGTGATGCTGCCCTGCAACCCCCCCGCCCACTACCCCGGCCTGAGCTACAGGTGGCTGCTGAACGAGTTCCCCAACTTCATCCCCACCGACGGCAGGCACTTCGTGAGCCAGACCACC\n",
      "This is Sequence 3: ATCAGCGACACCGAGGCCGACATCGGCAGCAACCTGAGGTGGGGCTGCGCCGCCGCCGGCAAGCCCAGGCCCATGGTGAGGTGGCTGAGGAACGGCGAGCCCCTGGCCAGCCAGAACAGGGTGGAGGTGCTGGCC\n",
      "This is Sequence 4: AGGAGGCTGATCCCCGCCGCCAGGGGCGGCGAGATCAGCATCCTGTGCCAGCCCAGGGCCGCCCCCAAGGCCACCATCCTGTGGAGCAAGGGCACCGAGATCCTGGGCAACAGCACCAGGGTGACCGTGACCAGC\n"
     ]
    }
   ],
   "source": [
    "#--------------------------------------\n",
    "# FILL IN ARG PARSER!!\n",
    "#-----------------------------------------\n",
    "#read in multiple sequences from fasta file\n",
    "input_file = SeqIO.parse('to_msa.fasta','fasta')\n",
    "#sequences list\n",
    "sequences = [record for record in input_file]\n",
    "\n",
    "sequences_array = []\n",
    "for record in sequences: \n",
    "   # x= record.seq\n",
    "    print (f\"This is {record.description}: {record.seq}\")\n",
    "    #sequences_df = sequences.append(x)\n",
    "    sequences_array.append(record.seq) "
   ]
  },
  {
   "cell_type": "code",
   "execution_count": 77,
   "metadata": {},
   "outputs": [
    {
     "name": "stdout",
     "output_type": "stream",
     "text": [
      "Seq alignment: (0, 1) \n",
      " Sequence: ATCCTGGACATGGACGTGGTGGAGGGCAGCGCCGCCAGGTTCGACTGCAAGGTGGAGGGCTACCCCGACCCCGAGGTGATGTGGTTCAAGGACGACAACCCCGTGAAGGAGAGCAGGCACTTCCAGATCGACTACGACGAGGAGGGCAAC \n",
      " Sequence 2: AGGGACCCCGTGAAGACCCACGAGGGCTGGGGCGTGATGCTGCCCTGCAACCCCCCCGCCCACTACCCCGGCCTGAGCTACAGGTGGCTGCTGAACGAGTTCCCCAACTTCATCCCCACCGACGGCAGGCACTTCGTGAGCCAGACCACC\n",
      "Seq alignment: (0, 2) \n",
      " Sequence: ATCCTGGACATGGACGTGGTGGAGGGCAGCGCCGCCAGGTTCGACTGCAAGGTGGAGGGCTACCCCGACCCCGAGGTGATGTGGTTCAAGGACGACAACCCCGTGAAGGAGAGCAGGCACTTCCAGATCGACTACGACGAGGAGGGCAAC \n",
      " Sequence 2: ATCAGCGACACCGAGGCCGACATCGGCAGCAACCTGAGGTGGGGCTGCGCCGCCGCCGGCAAGCCCAGGCCCATGGTGAGGTGGCTGAGGAACGGCGAGCCCCTGGCCAGCCAGAACAGGGTGGAGGTGCTGGCC\n",
      "Seq alignment: (0, 3) \n",
      " Sequence: ATCCTGGACATGGACGTGGTGGAGGGCAGCGCCGCCAGGTTCGACTGCAAGGTGGAGGGCTACCCCGACCCCGAGGTGATGTGGTTCAAGGACGACAACCCCGTGAAGGAGAGCAGGCACTTCCAGATCGACTACGACGAGGAGGGCAAC \n",
      " Sequence 2: AGGAGGCTGATCCCCGCCGCCAGGGGCGGCGAGATCAGCATCCTGTGCCAGCCCAGGGCCGCCCCCAAGGCCACCATCCTGTGGAGCAAGGGCACCGAGATCCTGGGCAACAGCACCAGGGTGACCGTGACCAGC\n",
      "Seq alignment: (1, 2) \n",
      " Sequence: AGGGACCCCGTGAAGACCCACGAGGGCTGGGGCGTGATGCTGCCCTGCAACCCCCCCGCCCACTACCCCGGCCTGAGCTACAGGTGGCTGCTGAACGAGTTCCCCAACTTCATCCCCACCGACGGCAGGCACTTCGTGAGCCAGACCACC \n",
      " Sequence 2: ATCAGCGACACCGAGGCCGACATCGGCAGCAACCTGAGGTGGGGCTGCGCCGCCGCCGGCAAGCCCAGGCCCATGGTGAGGTGGCTGAGGAACGGCGAGCCCCTGGCCAGCCAGAACAGGGTGGAGGTGCTGGCC\n",
      "Seq alignment: (1, 3) \n",
      " Sequence: AGGGACCCCGTGAAGACCCACGAGGGCTGGGGCGTGATGCTGCCCTGCAACCCCCCCGCCCACTACCCCGGCCTGAGCTACAGGTGGCTGCTGAACGAGTTCCCCAACTTCATCCCCACCGACGGCAGGCACTTCGTGAGCCAGACCACC \n",
      " Sequence 2: AGGAGGCTGATCCCCGCCGCCAGGGGCGGCGAGATCAGCATCCTGTGCCAGCCCAGGGCCGCCCCCAAGGCCACCATCCTGTGGAGCAAGGGCACCGAGATCCTGGGCAACAGCACCAGGGTGACCGTGACCAGC\n",
      "Seq alignment: (2, 3) \n",
      " Sequence: ATCAGCGACACCGAGGCCGACATCGGCAGCAACCTGAGGTGGGGCTGCGCCGCCGCCGGCAAGCCCAGGCCCATGGTGAGGTGGCTGAGGAACGGCGAGCCCCTGGCCAGCCAGAACAGGGTGGAGGTGCTGGCC \n",
      " Sequence 2: AGGAGGCTGATCCCCGCCGCCAGGGGCGGCGAGATCAGCATCCTGTGCCAGCCCAGGGCCGCCCCCAAGGCCACCATCCTGTGGAGCAAGGGCACCGAGATCCTGGGCAACAGCACCAGGGTGACCGTGACCAGC\n",
      "AGGAGGCTGATCCCCGCCGCCAGGGGCGGCGAGATCAGCATCCTGTGCCAGCCCAGGGCCGCCCCCAAGGCCACCATCCTGTGGAGCAAGGGCACCGAGATCCTGGGCAACAGCACCAGGGTGACCGTGACCAGC\n"
     ]
    }
   ],
   "source": [
    " \n",
    "combis= (list(combinations(range(len(sequences)), 2))) \n",
    "\n",
    "for i in range (len(combis)):\n",
    "    seq_no1= combis[i][0]\n",
    "    seq_no2= combis[i][1]\n",
    "\n",
    "    se1= sequences_array[seq_no1]\n",
    "    \n",
    "    se2= sequences_array[seq_no2]\n",
    "    print(f'Seq alignment: {combis[i]} \\n Sequence: {se1} \\n Sequence 2: {se2}')\n",
    "\n",
    "\n",
    "\n",
    "    #print(combis[i][0], combis[i][1])\n",
    "print(sequences_array[3])"
   ]
  },
  {
   "cell_type": "code",
   "execution_count": 36,
   "metadata": {},
   "outputs": [
    {
     "name": "stdout",
     "output_type": "stream",
     "text": [
      "[(0, 1), (0, 2), (0, 3), (1, 2), (1, 3), (2, 3)]\n"
     ]
    }
   ],
   "source": [
    "def feng_doolittle_distance(sequence0, sequence1):\n",
    "\n",
    "    d= math.log((S_obs-S_rand)/(S_id- S_rand))\n",
    "\n",
    "    return d"
   ]
  }
 ],
 "metadata": {
  "interpreter": {
   "hash": "6b653cce55b49036c6addb2704e0494e1a69bc998590e4b3eca4f60dd3d1794b"
  },
  "kernelspec": {
   "display_name": "Python 3.8.8 ('base')",
   "language": "python",
   "name": "python3"
  },
  "language_info": {
   "codemirror_mode": {
    "name": "ipython",
    "version": 3
   },
   "file_extension": ".py",
   "mimetype": "text/x-python",
   "name": "python",
   "nbconvert_exporter": "python",
   "pygments_lexer": "ipython3",
   "version": "3.8.8"
  },
  "orig_nbformat": 4
 },
 "nbformat": 4,
 "nbformat_minor": 2
}
